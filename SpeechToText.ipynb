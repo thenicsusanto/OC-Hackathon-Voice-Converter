{
 "cells": [
  {
   "cell_type": "code",
   "execution_count": 7,
   "metadata": {},
   "outputs": [
    {
     "name": "stdout",
     "output_type": "stream",
     "text": [
      "Defaulting to user installation because normal site-packages is not writeable\n",
      "Collecting git+https://github.com/openai/whisper.git\n",
      "  Cloning https://github.com/openai/whisper.git to c:\\users\\sihoc\\appdata\\local\\temp\\pip-req-build-5apxli12\n",
      "  Resolved https://github.com/openai/whisper.git to commit 248b6cb124225dd263bb9bd32d060b6517e067f8\n",
      "  Installing build dependencies: started\n",
      "  Installing build dependencies: finished with status 'done'\n",
      "  Getting requirements to build wheel: started\n",
      "  Getting requirements to build wheel: finished with status 'done'\n",
      "  Preparing metadata (pyproject.toml): started\n",
      "  Preparing metadata (pyproject.toml): finished with status 'done'\n",
      "Requirement already satisfied: numba in c:\\users\\sihoc\\appdata\\roaming\\python\\python39\\site-packages (from openai-whisper==20230314) (0.57.0)\n",
      "Requirement already satisfied: numpy in c:\\users\\sihoc\\appdata\\roaming\\python\\python39\\site-packages (from openai-whisper==20230314) (1.24.3)\n",
      "Requirement already satisfied: torch in c:\\users\\sihoc\\appdata\\roaming\\python\\python39\\site-packages (from openai-whisper==20230314) (2.0.0)\n",
      "Requirement already satisfied: tqdm in c:\\users\\sihoc\\appdata\\roaming\\python\\python39\\site-packages (from openai-whisper==20230314) (4.65.0)\n",
      "Requirement already satisfied: more-itertools in c:\\users\\sihoc\\appdata\\roaming\\python\\python39\\site-packages (from openai-whisper==20230314) (9.1.0)\n",
      "Requirement already satisfied: tiktoken==0.3.3 in c:\\users\\sihoc\\appdata\\roaming\\python\\python39\\site-packages (from openai-whisper==20230314) (0.3.3)\n",
      "Requirement already satisfied: regex>=2022.1.18 in c:\\users\\sihoc\\appdata\\roaming\\python\\python39\\site-packages (from tiktoken==0.3.3->openai-whisper==20230314) (2023.5.5)\n",
      "Requirement already satisfied: requests>=2.26.0 in c:\\users\\sihoc\\appdata\\roaming\\python\\python39\\site-packages (from tiktoken==0.3.3->openai-whisper==20230314) (2.30.0)\n",
      "Requirement already satisfied: llvmlite<0.41,>=0.40.0dev0 in c:\\users\\sihoc\\appdata\\roaming\\python\\python39\\site-packages (from numba->openai-whisper==20230314) (0.40.0)\n",
      "Requirement already satisfied: filelock in c:\\users\\sihoc\\appdata\\roaming\\python\\python39\\site-packages (from torch->openai-whisper==20230314) (3.12.0)\n",
      "Requirement already satisfied: typing-extensions in c:\\users\\sihoc\\appdata\\roaming\\python\\python39\\site-packages (from torch->openai-whisper==20230314) (4.5.0)\n",
      "Requirement already satisfied: sympy in c:\\users\\sihoc\\appdata\\roaming\\python\\python39\\site-packages (from torch->openai-whisper==20230314) (1.11.1)\n",
      "Requirement already satisfied: networkx in c:\\users\\sihoc\\appdata\\roaming\\python\\python39\\site-packages (from torch->openai-whisper==20230314) (3.1)\n",
      "Requirement already satisfied: jinja2 in c:\\users\\sihoc\\appdata\\roaming\\python\\python39\\site-packages (from torch->openai-whisper==20230314) (3.1.2)\n",
      "Requirement already satisfied: colorama in c:\\users\\sihoc\\appdata\\roaming\\python\\python39\\site-packages (from tqdm->openai-whisper==20230314) (0.4.6)\n",
      "Requirement already satisfied: charset-normalizer<4,>=2 in c:\\users\\sihoc\\appdata\\roaming\\python\\python39\\site-packages (from requests>=2.26.0->tiktoken==0.3.3->openai-whisper==20230314) (3.1.0)\n",
      "Requirement already satisfied: idna<4,>=2.5 in c:\\users\\sihoc\\appdata\\roaming\\python\\python39\\site-packages (from requests>=2.26.0->tiktoken==0.3.3->openai-whisper==20230314) (3.4)\n",
      "Requirement already satisfied: urllib3<3,>=1.21.1 in c:\\users\\sihoc\\appdata\\roaming\\python\\python39\\site-packages (from requests>=2.26.0->tiktoken==0.3.3->openai-whisper==20230314) (2.0.2)\n",
      "Requirement already satisfied: certifi>=2017.4.17 in c:\\users\\sihoc\\appdata\\roaming\\python\\python39\\site-packages (from requests>=2.26.0->tiktoken==0.3.3->openai-whisper==20230314) (2022.12.7)\n",
      "Requirement already satisfied: MarkupSafe>=2.0 in c:\\users\\sihoc\\appdata\\roaming\\python\\python39\\site-packages (from jinja2->torch->openai-whisper==20230314) (2.1.2)\n",
      "Requirement already satisfied: mpmath>=0.19 in c:\\users\\sihoc\\appdata\\roaming\\python\\python39\\site-packages (from sympy->torch->openai-whisper==20230314) (1.3.0)\n"
     ]
    },
    {
     "name": "stderr",
     "output_type": "stream",
     "text": [
      "  Running command git clone --filter=blob:none --quiet https://github.com/openai/whisper.git 'C:\\Users\\sihoc\\AppData\\Local\\Temp\\pip-req-build-5apxli12'\n"
     ]
    },
    {
     "name": "stdout",
     "output_type": "stream",
     "text": [
      "Defaulting to user installation because normal site-packages is not writeable\n",
      "Collecting ffmpeg\n",
      "  Using cached ffmpeg-1.4-py3-none-any.whl\n",
      "Installing collected packages: ffmpeg\n",
      "Successfully installed ffmpeg-1.4\n"
     ]
    }
   ],
   "source": [
    " !pip install git+https://github.com/openai/whisper.git\n",
    " !pip install ffmpeg"
   ]
  },
  {
   "cell_type": "code",
   "execution_count": 8,
   "metadata": {},
   "outputs": [
    {
     "name": "stderr",
     "output_type": "stream",
     "text": [
      "C:\\Users\\sihoc\\AppData\\Roaming\\Python\\Python39\\site-packages\\whisper\\transcribe.py:114: UserWarning: FP16 is not supported on CPU; using FP32 instead\n",
      "  warnings.warn(\"FP16 is not supported on CPU; using FP32 instead\")\n",
      "Traceback (most recent call last):\n",
      "  File \"C:\\Program Files\\Python39\\lib\\runpy.py\", line 197, in _run_module_as_main\n",
      "    return _run_code(code, main_globals, None,\n",
      "  File \"C:\\Program Files\\Python39\\lib\\runpy.py\", line 87, in _run_code\n",
      "    exec(code, run_globals)\n",
      "  File \"c:\\Users\\sihoc\\AppData\\Roaming\\Python\\Python39\\Scripts\\whisper.exe\\__main__.py\", line 7, in <module>\n",
      "  File \"C:\\Users\\sihoc\\AppData\\Roaming\\Python\\Python39\\site-packages\\whisper\\transcribe.py\", line 452, in cli\n",
      "    result = transcribe(model, audio_path, temperature=temperature, **args)\n",
      "  File \"C:\\Users\\sihoc\\AppData\\Roaming\\Python\\Python39\\site-packages\\whisper\\transcribe.py\", line 121, in transcribe\n",
      "    mel = log_mel_spectrogram(audio, padding=N_SAMPLES)\n",
      "  File \"C:\\Users\\sihoc\\AppData\\Roaming\\Python\\Python39\\site-packages\\whisper\\audio.py\", line 140, in log_mel_spectrogram\n",
      "    audio = load_audio(audio)\n",
      "  File \"C:\\Users\\sihoc\\AppData\\Roaming\\Python\\Python39\\site-packages\\whisper\\audio.py\", line 59, in load_audio\n",
      "    out = run(cmd, capture_output=True, check=True).stdout\n",
      "  File \"C:\\Program Files\\Python39\\lib\\subprocess.py\", line 505, in run\n",
      "    with Popen(*popenargs, **kwargs) as process:\n",
      "  File \"C:\\Program Files\\Python39\\lib\\subprocess.py\", line 951, in __init__\n",
      "    self._execute_child(args, executable, preexec_fn, close_fds,\n",
      "  File \"C:\\Program Files\\Python39\\lib\\subprocess.py\", line 1420, in _execute_child\n",
      "    hp, ht, pid, tid = _winapi.CreateProcess(executable, args,\n",
      "FileNotFoundError: [WinError 2] The system cannot find the file specified\n"
     ]
    }
   ],
   "source": [
    "!whisper \"testAudio.wav\" --model base.en"
   ]
  }
 ],
 "metadata": {
  "kernelspec": {
   "display_name": "Python 3",
   "language": "python",
   "name": "python3"
  },
  "language_info": {
   "codemirror_mode": {
    "name": "ipython",
    "version": 3
   },
   "file_extension": ".py",
   "mimetype": "text/x-python",
   "name": "python",
   "nbconvert_exporter": "python",
   "pygments_lexer": "ipython3",
   "version": "3.9.13"
  },
  "orig_nbformat": 4
 },
 "nbformat": 4,
 "nbformat_minor": 2
}
